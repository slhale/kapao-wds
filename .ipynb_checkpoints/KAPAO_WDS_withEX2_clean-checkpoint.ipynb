{
 "metadata": {
  "name": "",
  "signature": "sha256:3e328a63da56abbf32f0691b9521aac9beccbf5447405ec60054bd53ce1cf39d"
 },
 "nbformat": 3,
 "nbformat_minor": 0,
 "worksheets": [
  {
   "cells": [
    {
     "cell_type": "markdown",
     "metadata": {},
     "source": [
      "## KAPAO_WDS\n",
      "# Software for analysis of the Washington Double Star Catalog"
     ]
    },
    {
     "cell_type": "code",
     "collapsed": false,
     "input": [
      "#imports\n",
      "import numpy as np\n",
      "from numpy import *\n",
      "import matplotlib.pyplot as plt\n",
      "import matplotlib.colors as c\n",
      "import astropy\n",
      "from astropy.io import ascii\n",
      "from StringIO import StringIO\n",
      "from matplotlib.colors import LogNorm\n",
      "import pylab\n",
      "from matplotlib.ticker import NullFormatter\n",
      "import numpy.ma as ma\n",
      "np.set_printoptions(threshold='nan')\n",
      "import pickle\n",
      "from collections import Counter \n",
      "from astropy import units as u\n",
      "from astropy.coordinates import SkyCoord\n",
      "import matplotlib.cm as cm\n",
      "\n",
      "\n",
      "# This is importing a \"future\" python version 3 print function.\n",
      "from __future__ import print_function\n",
      "%matplotlib inline\n"
     ],
     "language": "python",
     "metadata": {},
     "outputs": [],
     "prompt_number": 1
    },
    {
     "cell_type": "code",
     "collapsed": false,
     "input": [
      "WDS_Master2 =astropy.io.ascii.read('WDS_CSV_cat_1-24_FIN2.txt', delimiter =',', guess=False, Reader =ascii.NoHeader, fill_values=[('.', '-999'), ('', '-999')])"
     ],
     "language": "python",
     "metadata": {},
     "outputs": [],
     "prompt_number": 2
    },
    {
     "cell_type": "code",
     "collapsed": false,
     "input": [
      "Discoverer_and_number = WDS_Master2['col1']\n",
      "N_obs = WDS_Master2['col2']\n",
      "Pos_angle_first = WDS_Master2['col3']\n",
      "Pos_angle_last = WDS_Master2['col4']\n",
      "Sep_first = WDS_Master2['col5']\n",
      "Sep_last = WDS_Master2['col6']\n",
      "Pri_mag = WDS_Master2['col7']\n",
      "Sec_mag = WDS_Master2['col8']\n",
      "Spectral_type = WDS_Master2['col9']\n",
      "Pri_RA_prop_motion = WDS_Master2['col10']\n",
      "Pri_DEC_prop_motion = WDS_Master2['col11']\n",
      "RA_coords = WDS_Master2['col14']\n",
      "DEC_coords = WDS_Master2['col15']\n",
      "\n"
     ],
     "language": "python",
     "metadata": {},
     "outputs": [],
     "prompt_number": 3
    },
    {
     "cell_type": "code",
     "collapsed": false,
     "input": [
      "# UNNEDED \n",
      "\n",
      "#testing repitions\n",
      "\n",
      "#print(RA_coords_KAPAO)\n",
      "\n",
      "i = 0\n",
      "for i in range(0, len(Discoverer_and_number_KAPAO)):\n",
      "    j = 0\n",
      "    for j in range (0, (len(Discoverer_and_number_KAPAO))):\n",
      "        if Discoverer_and_number_KAPAO[i] == Discoverer_and_number_KAPAO[j]:\n",
      "            print(Discoverer_and_number_KAPAO[j])\n",
      "            delete(Discoverer_and_number_KAPAO, s_[j], axis=0) \n",
      "            #print(Discoverer_and_number_KAPAO)\n",
      "        j = j + 1\n",
      "    i = i + 1\n",
      "\n",
      "            #Discoverer_and_number_KAPAO.pop(j)\n",
      "            \n",
      "            \n",
      "#print(Discoverer_and_number_KAPAO)"
     ],
     "language": "python",
     "metadata": {},
     "outputs": [
      {
       "ename": "NameError",
       "evalue": "name 'Discoverer_and_number_KAPAO' is not defined",
       "output_type": "pyerr",
       "traceback": [
        "\u001b[0;31m---------------------------------------------------------------------------\u001b[0m\n\u001b[0;31mNameError\u001b[0m                                 Traceback (most recent call last)",
        "\u001b[0;32m<ipython-input-6-08ce0e8f1eca>\u001b[0m in \u001b[0;36m<module>\u001b[0;34m()\u001b[0m\n\u001b[1;32m      4\u001b[0m \u001b[0;34m\u001b[0m\u001b[0m\n\u001b[1;32m      5\u001b[0m \u001b[0mi\u001b[0m \u001b[0;34m=\u001b[0m \u001b[0;36m0\u001b[0m\u001b[0;34m\u001b[0m\u001b[0m\n\u001b[0;32m----> 6\u001b[0;31m \u001b[0;32mfor\u001b[0m \u001b[0mi\u001b[0m \u001b[0;32min\u001b[0m \u001b[0mrange\u001b[0m\u001b[0;34m(\u001b[0m\u001b[0;36m0\u001b[0m\u001b[0;34m,\u001b[0m \u001b[0mlen\u001b[0m\u001b[0;34m(\u001b[0m\u001b[0mDiscoverer_and_number_KAPAO\u001b[0m\u001b[0;34m)\u001b[0m\u001b[0;34m)\u001b[0m\u001b[0;34m:\u001b[0m\u001b[0;34m\u001b[0m\u001b[0m\n\u001b[0m\u001b[1;32m      7\u001b[0m     \u001b[0mj\u001b[0m \u001b[0;34m=\u001b[0m \u001b[0;36m0\u001b[0m\u001b[0;34m\u001b[0m\u001b[0m\n\u001b[1;32m      8\u001b[0m     \u001b[0;32mfor\u001b[0m \u001b[0mj\u001b[0m \u001b[0;32min\u001b[0m \u001b[0mrange\u001b[0m \u001b[0;34m(\u001b[0m\u001b[0;36m0\u001b[0m\u001b[0;34m,\u001b[0m \u001b[0;34m(\u001b[0m\u001b[0mlen\u001b[0m\u001b[0;34m(\u001b[0m\u001b[0mDiscoverer_and_number_KAPAO\u001b[0m\u001b[0;34m)\u001b[0m\u001b[0;34m)\u001b[0m\u001b[0;34m)\u001b[0m\u001b[0;34m:\u001b[0m\u001b[0;34m\u001b[0m\u001b[0m\n",
        "\u001b[0;31mNameError\u001b[0m: name 'Discoverer_and_number_KAPAO' is not defined"
       ]
      }
     ],
     "prompt_number": 6
    },
    {
     "cell_type": "code",
     "collapsed": false,
     "input": [
      "print(Discoverer_and_number_KAPAO)\n",
      "list(set(Discoverer_and_number_KAPAO))\n",
      "print(Discoverer_and_number_KAPAO)\n",
      "\n",
      "##UNNNEDED"
     ],
     "language": "python",
     "metadata": {},
     "outputs": [
      {
       "ename": "NameError",
       "evalue": "name 'Discoverer_and_number_KAPAO' is not defined",
       "output_type": "pyerr",
       "traceback": [
        "\u001b[0;31m---------------------------------------------------------------------------\u001b[0m\n\u001b[0;31mNameError\u001b[0m                                 Traceback (most recent call last)",
        "\u001b[0;32m<ipython-input-7-98e3900bc1d0>\u001b[0m in \u001b[0;36m<module>\u001b[0;34m()\u001b[0m\n\u001b[0;32m----> 1\u001b[0;31m \u001b[0;32mprint\u001b[0m\u001b[0;34m(\u001b[0m\u001b[0mDiscoverer_and_number_KAPAO\u001b[0m\u001b[0;34m)\u001b[0m\u001b[0;34m\u001b[0m\u001b[0m\n\u001b[0m\u001b[1;32m      2\u001b[0m \u001b[0mlist\u001b[0m\u001b[0;34m(\u001b[0m\u001b[0mset\u001b[0m\u001b[0;34m(\u001b[0m\u001b[0mDiscoverer_and_number_KAPAO\u001b[0m\u001b[0;34m)\u001b[0m\u001b[0;34m)\u001b[0m\u001b[0;34m\u001b[0m\u001b[0m\n\u001b[1;32m      3\u001b[0m \u001b[0;32mprint\u001b[0m\u001b[0;34m(\u001b[0m\u001b[0mDiscoverer_and_number_KAPAO\u001b[0m\u001b[0;34m)\u001b[0m\u001b[0;34m\u001b[0m\u001b[0m\n",
        "\u001b[0;31mNameError\u001b[0m: name 'Discoverer_and_number_KAPAO' is not defined"
       ]
      }
     ],
     "prompt_number": 7
    },
    {
     "cell_type": "code",
     "collapsed": false,
     "input": [
      "## START HERE\n",
      "\n",
      "#magnitude difference\n",
      "\n",
      "#Pri_mag_g = ma.MaskedArray.compressed(Pri_mag)\n",
      "#Sec_mag_g = ma.MaskedArray.compressed(Sec_mag)\n",
      "\n",
      "Pri_mag_g = ma.filled(Pri_mag,[-999])\n",
      "Sec_mag_g = ma.filled(Sec_mag,[-999])\n",
      "\n",
      "Pri_mag_gg = np.asarray(Pri_mag_g, dtype = 'float_' )\n",
      "Sec_mag_gg = np.asarray(Sec_mag_g, dtype = 'float_' )\n",
      "\n",
      "Delta_mag = np.subtract(Pri_mag_gg, Sec_mag_gg)\n",
      "Delta_mag_lim = Delta_mag[np.argwhere((Delta_mag<0.0) & (Delta_mag>-20.0) & (Sep_last>0.0) & (Sep_last <20.0))]\n"
     ],
     "language": "python",
     "metadata": {},
     "outputs": [],
     "prompt_number": 8
    },
    {
     "cell_type": "code",
     "collapsed": false,
     "input": [
      "#simple RA and DEC plot without conversion to decimal\n",
      "\n",
      "x = np.ravel(RA_coords)\n",
      "y = np.ravel(DEC_coords)\n",
      "\n",
      "plt.hist2d(x, y, bins = 1000, norm=LogNorm())\n",
      "plt.xlim(xmin = 240000.00, xmax=0.00)\n",
      "plt.ylim(ymin = -900000.0, ymax=900000.0)\n",
      "plt.gca().invert_xaxis()\n",
      "plt.title(' WDS Histogram of RA vs. DEC in hhmmss')\n",
      "plt.xlabel('RA')\n",
      "plt.ylabel('DEC')\n",
      "#plt.savefig('RA_DEC_histogram_3.png', format='png',dpi=1000)\n",
      "\n"
     ],
     "language": "python",
     "metadata": {},
     "outputs": [
      {
       "metadata": {},
       "output_type": "pyout",
       "prompt_number": 9,
       "text": [
        "<matplotlib.text.Text at 0x7fe103dd0f50>"
       ]
      },
      {
       "metadata": {},
       "output_type": "display_data",
       "png": "[encoded data removed]",
       "text": [
        "<matplotlib.figure.Figure at 0x7fe1021e5710>"
       ]
      }
     ],
     "prompt_number": 9
    },
    {
     "cell_type": "code",
     "collapsed": false,
     "input": [
      "RADEC_degrees =astropy.io.ascii.read('INPUT/RADEC_indegrees.txt', delimiter =',', guess=False, Reader =ascii.NoHeader, fill_values=[('.', '-999'), ('', '-999')])"
     ],
     "language": "python",
     "metadata": {},
     "outputs": [
      {
       "ename": "IOError",
       "evalue": "[Errno 2] No such file or directory: 'INPUT/RADEC_indegrees.txt'",
       "output_type": "pyerr",
       "traceback": [
        "\u001b[0;31m---------------------------------------------------------------------------\u001b[0m\n\u001b[0;31mIOError\u001b[0m                                   Traceback (most recent call last)",
        "\u001b[0;32m<ipython-input-10-b27e499c2ddc>\u001b[0m in \u001b[0;36m<module>\u001b[0;34m()\u001b[0m\n\u001b[0;32m----> 1\u001b[0;31m \u001b[0mRADEC_degrees\u001b[0m \u001b[0;34m=\u001b[0m\u001b[0mastropy\u001b[0m\u001b[0;34m.\u001b[0m\u001b[0mio\u001b[0m\u001b[0;34m.\u001b[0m\u001b[0mascii\u001b[0m\u001b[0;34m.\u001b[0m\u001b[0mread\u001b[0m\u001b[0;34m(\u001b[0m\u001b[0;34m'INPUT/RADEC_indegrees.txt'\u001b[0m\u001b[0;34m,\u001b[0m \u001b[0mdelimiter\u001b[0m \u001b[0;34m=\u001b[0m\u001b[0;34m','\u001b[0m\u001b[0;34m,\u001b[0m \u001b[0mguess\u001b[0m\u001b[0;34m=\u001b[0m\u001b[0mFalse\u001b[0m\u001b[0;34m,\u001b[0m \u001b[0mReader\u001b[0m \u001b[0;34m=\u001b[0m\u001b[0mascii\u001b[0m\u001b[0;34m.\u001b[0m\u001b[0mNoHeader\u001b[0m\u001b[0;34m,\u001b[0m \u001b[0mfill_values\u001b[0m\u001b[0;34m=\u001b[0m\u001b[0;34m[\u001b[0m\u001b[0;34m(\u001b[0m\u001b[0;34m'.'\u001b[0m\u001b[0;34m,\u001b[0m \u001b[0;34m'-999'\u001b[0m\u001b[0;34m)\u001b[0m\u001b[0;34m,\u001b[0m \u001b[0;34m(\u001b[0m\u001b[0;34m''\u001b[0m\u001b[0;34m,\u001b[0m \u001b[0;34m'-999'\u001b[0m\u001b[0;34m)\u001b[0m\u001b[0;34m]\u001b[0m\u001b[0;34m)\u001b[0m\u001b[0;34m\u001b[0m\u001b[0m\n\u001b[0m",
        "\u001b[0;32m/usr/local/lib/python2.7/dist-packages/astropy-1.0.4-py2.7-linux-x86_64.egg/astropy/io/ascii/ui.pyc\u001b[0m in \u001b[0;36mread\u001b[0;34m(table, guess, **kwargs)\u001b[0m\n\u001b[1;32m    265\u001b[0m             \u001b[0mfast_reader\u001b[0m \u001b[0;34m=\u001b[0m \u001b[0mget_reader\u001b[0m\u001b[0;34m(\u001b[0m\u001b[0;34m**\u001b[0m\u001b[0mnew_kwargs\u001b[0m\u001b[0;34m)\u001b[0m\u001b[0;34m\u001b[0m\u001b[0m\n\u001b[1;32m    266\u001b[0m             \u001b[0;32mtry\u001b[0m\u001b[0;34m:\u001b[0m\u001b[0;34m\u001b[0m\u001b[0m\n\u001b[0;32m--> 267\u001b[0;31m                 \u001b[0;32mreturn\u001b[0m \u001b[0mfast_reader\u001b[0m\u001b[0;34m.\u001b[0m\u001b[0mread\u001b[0m\u001b[0;34m(\u001b[0m\u001b[0mtable\u001b[0m\u001b[0;34m)\u001b[0m\u001b[0;34m\u001b[0m\u001b[0m\n\u001b[0m\u001b[1;32m    268\u001b[0m             \u001b[0;32mexcept\u001b[0m \u001b[0;34m(\u001b[0m\u001b[0mcore\u001b[0m\u001b[0;34m.\u001b[0m\u001b[0mParameterError\u001b[0m\u001b[0;34m,\u001b[0m \u001b[0mcparser\u001b[0m\u001b[0;34m.\u001b[0m\u001b[0mCParserError\u001b[0m\u001b[0;34m)\u001b[0m \u001b[0;32mas\u001b[0m \u001b[0me\u001b[0m\u001b[0;34m:\u001b[0m\u001b[0;34m\u001b[0m\u001b[0m\n\u001b[1;32m    269\u001b[0m                 \u001b[0;31m# special testing value to avoid falling back on the slow reader\u001b[0m\u001b[0;34m\u001b[0m\u001b[0;34m\u001b[0m\u001b[0m\n",
        "\u001b[0;32m/usr/local/lib/python2.7/dist-packages/astropy-1.0.4-py2.7-linux-x86_64.egg/astropy/io/ascii/fastbasic.pyc\u001b[0m in \u001b[0;36mread\u001b[0;34m(self, table)\u001b[0m\n\u001b[1;32m     87\u001b[0m                                       \u001b[0mdata_start\u001b[0m\u001b[0;34m=\u001b[0m\u001b[0mself\u001b[0m\u001b[0;34m.\u001b[0m\u001b[0mdata_start\u001b[0m\u001b[0;34m,\u001b[0m\u001b[0;34m\u001b[0m\u001b[0m\n\u001b[1;32m     88\u001b[0m                                       \u001b[0mfill_extra_cols\u001b[0m\u001b[0;34m=\u001b[0m\u001b[0mself\u001b[0m\u001b[0;34m.\u001b[0m\u001b[0mfill_extra_cols\u001b[0m\u001b[0;34m,\u001b[0m\u001b[0;34m\u001b[0m\u001b[0m\n\u001b[0;32m---> 89\u001b[0;31m                                       **self.kwargs)\n\u001b[0m\u001b[1;32m     90\u001b[0m         \u001b[0mconversion_info\u001b[0m \u001b[0;34m=\u001b[0m \u001b[0mself\u001b[0m\u001b[0;34m.\u001b[0m\u001b[0m_read_header\u001b[0m\u001b[0;34m(\u001b[0m\u001b[0;34m)\u001b[0m\u001b[0;34m\u001b[0m\u001b[0m\n\u001b[1;32m     91\u001b[0m         \u001b[0mself\u001b[0m\u001b[0;34m.\u001b[0m\u001b[0mcheck_header\u001b[0m\u001b[0;34m(\u001b[0m\u001b[0;34m)\u001b[0m\u001b[0;34m\u001b[0m\u001b[0m\n",
        "\u001b[0;32m/usr/local/lib/python2.7/dist-packages/astropy-1.0.4-py2.7-linux-x86_64.egg/astropy/io/ascii/cparser.so\u001b[0m in \u001b[0;36mastropy.io.ascii.cparser.CParser.__cinit__ (astropy/io/ascii/cparser.c:3743)\u001b[0;34m()\u001b[0m\n",
        "\u001b[0;32m/usr/local/lib/python2.7/dist-packages/astropy-1.0.4-py2.7-linux-x86_64.egg/astropy/io/ascii/cparser.so\u001b[0m in \u001b[0;36mastropy.io.ascii.cparser.CParser.setup_tokenizer (astropy/io/ascii/cparser.c:4463)\u001b[0;34m()\u001b[0m\n",
        "\u001b[0;32m/usr/local/lib/python2.7/dist-packages/astropy-1.0.4-py2.7-linux-x86_64.egg/astropy/io/ascii/cparser.so\u001b[0m in \u001b[0;36mastropy.io.ascii.cparser.FileString.__cinit__ (astropy/io/ascii/cparser.c:2450)\u001b[0;34m()\u001b[0m\n",
        "\u001b[0;31mIOError\u001b[0m: [Errno 2] No such file or directory: 'INPUT/RADEC_indegrees.txt'"
       ]
      }
     ],
     "prompt_number": 10
    },
    {
     "cell_type": "code",
     "collapsed": false,
     "input": [
      "RA_degrees = RADEC_degrees['col1']\n",
      "DEC_degrees = RADEC_degrees['col2']"
     ],
     "language": "python",
     "metadata": {},
     "outputs": [
      {
       "ename": "NameError",
       "evalue": "name 'RADEC_degrees' is not defined",
       "output_type": "pyerr",
       "traceback": [
        "\u001b[0;31m---------------------------------------------------------------------------\u001b[0m\n\u001b[0;31mNameError\u001b[0m                                 Traceback (most recent call last)",
        "\u001b[0;32m<ipython-input-11-cbf0f66c1c53>\u001b[0m in \u001b[0;36m<module>\u001b[0;34m()\u001b[0m\n\u001b[0;32m----> 1\u001b[0;31m \u001b[0mRA_degrees\u001b[0m \u001b[0;34m=\u001b[0m \u001b[0mRADEC_degrees\u001b[0m\u001b[0;34m[\u001b[0m\u001b[0;34m'col1'\u001b[0m\u001b[0;34m]\u001b[0m\u001b[0;34m\u001b[0m\u001b[0m\n\u001b[0m\u001b[1;32m      2\u001b[0m \u001b[0mDEC_degrees\u001b[0m \u001b[0;34m=\u001b[0m \u001b[0mRADEC_degrees\u001b[0m\u001b[0;34m[\u001b[0m\u001b[0;34m'col2'\u001b[0m\u001b[0;34m]\u001b[0m\u001b[0;34m\u001b[0m\u001b[0m\n",
        "\u001b[0;31mNameError\u001b[0m: name 'RADEC_degrees' is not defined"
       ]
      }
     ],
     "prompt_number": 11
    },
    {
     "cell_type": "code",
     "collapsed": false,
     "input": [
      "#testing degrees\n",
      "print(len(DEC_degrees))\n",
      "#print(DEC_degrees)\n",
      "print(len(DEC_coords))"
     ],
     "language": "python",
     "metadata": {},
     "outputs": [
      {
       "ename": "NameError",
       "evalue": "name 'DEC_degrees' is not defined",
       "output_type": "pyerr",
       "traceback": [
        "\u001b[0;31m---------------------------------------------------------------------------\u001b[0m\n\u001b[0;31mNameError\u001b[0m                                 Traceback (most recent call last)",
        "\u001b[0;32m<ipython-input-12-38d5855bdf8a>\u001b[0m in \u001b[0;36m<module>\u001b[0;34m()\u001b[0m\n\u001b[1;32m      1\u001b[0m \u001b[0;31m#testing degrees\u001b[0m\u001b[0;34m\u001b[0m\u001b[0;34m\u001b[0m\u001b[0m\n\u001b[0;32m----> 2\u001b[0;31m \u001b[0;32mprint\u001b[0m\u001b[0;34m(\u001b[0m\u001b[0mlen\u001b[0m\u001b[0;34m(\u001b[0m\u001b[0mDEC_degrees\u001b[0m\u001b[0;34m)\u001b[0m\u001b[0;34m)\u001b[0m\u001b[0;34m\u001b[0m\u001b[0m\n\u001b[0m\u001b[1;32m      3\u001b[0m \u001b[0;31m#print(DEC_degrees)\u001b[0m\u001b[0;34m\u001b[0m\u001b[0;34m\u001b[0m\u001b[0m\n\u001b[1;32m      4\u001b[0m \u001b[0;32mprint\u001b[0m\u001b[0;34m(\u001b[0m\u001b[0mlen\u001b[0m\u001b[0;34m(\u001b[0m\u001b[0mDEC_coords\u001b[0m\u001b[0;34m)\u001b[0m\u001b[0;34m)\u001b[0m\u001b[0;34m\u001b[0m\u001b[0m\n",
        "\u001b[0;31mNameError\u001b[0m: name 'DEC_degrees' is not defined"
       ]
      }
     ],
     "prompt_number": 12
    },
    {
     "cell_type": "code",
     "collapsed": false,
     "input": [
      "#simple RA and DEC plot WITH conversion to degree decimal\n",
      "\n",
      "x = np.ravel(RA_degrees)\n",
      "y = np.ravel(DEC_degrees)\n",
      "\n",
      "plt.hist2d(x, y, bins = 1000, norm=LogNorm())\n",
      "plt.xlim(xmin = 360.00, xmax=0.00)\n",
      "plt.ylim(ymin = -90.0, ymax=90.0)\n",
      "plt.gca().invert_xaxis()\n",
      "plt.title('WDS Histogram of RA vs. DEC in degrees')\n",
      "plt.xlabel('RA')\n",
      "plt.ylabel('DEC')\n",
      "plt.savefig('RA_DEC_histogram_degrees.png', format='png',dpi=1000)\n",
      "\n"
     ],
     "language": "python",
     "metadata": {},
     "outputs": [
      {
       "ename": "NameError",
       "evalue": "name 'RA_degrees' is not defined",
       "output_type": "pyerr",
       "traceback": [
        "\u001b[0;31m---------------------------------------------------------------------------\u001b[0m\n\u001b[0;31mNameError\u001b[0m                                 Traceback (most recent call last)",
        "\u001b[0;32m<ipython-input-13-6fc9b290eb62>\u001b[0m in \u001b[0;36m<module>\u001b[0;34m()\u001b[0m\n\u001b[1;32m      1\u001b[0m \u001b[0;31m#simple RA and DEC plot WITH conversion to degree decimal\u001b[0m\u001b[0;34m\u001b[0m\u001b[0;34m\u001b[0m\u001b[0m\n\u001b[1;32m      2\u001b[0m \u001b[0;34m\u001b[0m\u001b[0m\n\u001b[0;32m----> 3\u001b[0;31m \u001b[0mx\u001b[0m \u001b[0;34m=\u001b[0m \u001b[0mnp\u001b[0m\u001b[0;34m.\u001b[0m\u001b[0mravel\u001b[0m\u001b[0;34m(\u001b[0m\u001b[0mRA_degrees\u001b[0m\u001b[0;34m)\u001b[0m\u001b[0;34m\u001b[0m\u001b[0m\n\u001b[0m\u001b[1;32m      4\u001b[0m \u001b[0my\u001b[0m \u001b[0;34m=\u001b[0m \u001b[0mnp\u001b[0m\u001b[0;34m.\u001b[0m\u001b[0mravel\u001b[0m\u001b[0;34m(\u001b[0m\u001b[0mDEC_degrees\u001b[0m\u001b[0;34m)\u001b[0m\u001b[0;34m\u001b[0m\u001b[0m\n\u001b[1;32m      5\u001b[0m \u001b[0;34m\u001b[0m\u001b[0m\n",
        "\u001b[0;31mNameError\u001b[0m: name 'RA_degrees' is not defined"
       ]
      }
     ],
     "prompt_number": 13
    },
    {
     "cell_type": "code",
     "collapsed": false,
     "input": [
      "#parameters\n",
      "Sep_limits = (Sep_first>0.0) & (Sep_first <2.0)\n",
      "Mag_limits = (Pri_mag>0.0) & (Pri_mag <=8.0)\n",
      "RA_lim1 = (RA_coords>140000.00) & (RA_coords <240000.00)\n",
      "RA_lim2 = (RA_coords<20000.00) & (RA_coords >0000.00)\n",
      "#RA_limits = (RA_coords>143000.00) || (RA_coords<20000.00)\n",
      "#RA_lims = RA_coords.any(RA_coords>140000, RA_coords<20000)\n",
      "DEC_limits = (DEC_coords>100000.0) & (DEC_coords<600000.0)\n",
      "\n",
      "Mag_limits_0_3 = (Pri_mag>0.0) & (Pri_mag <=3.0)\n",
      "Mag_limits_3_6 = (Pri_mag>3.0) & (Pri_mag <=6.0)\n",
      "Mag_limits_6_9 = (Pri_mag>6.0) & (Pri_mag <=9.0)\n",
      "\n",
      "Delta_limits = (Delta_mag<-1.0) & (Delta_mag>=-10.5)\n",
      "Delta_mag_limits_sm = (Delta_mag<0.0) & (Delta_mag>=-1.5)\n",
      "Delta_mag_limits_lg = (Delta_mag<1.5) & (Delta_mag>=-20.0)\n"
     ],
     "language": "python",
     "metadata": {},
     "outputs": [],
     "prompt_number": 14
    },
    {
     "cell_type": "code",
     "collapsed": false,
     "input": [
      "#RA & DEC limits\n",
      "RADEClimits = RA_lim2 & DEC_limits\n",
      "\n",
      "#norm limits\n",
      "RADECseplimits = RADEClimits & Sep_limits\n",
      "\n",
      "#full list\n",
      "limits = RADECseplimits & Mag_limits & Delta_limits\n",
      "limits1 = DEC_limits & Sep_limits & Mag_limits\n",
      "\n",
      "#6 lists of limits\n",
      "limits_mag1_Deltasm = Mag_limits_0_3 & Delta_mag_limits_sm & RADECseplimits\n",
      "limits_mag2_Deltasm = Mag_limits_3_6 & Delta_mag_limits_sm & RADECseplimits\n",
      "limits_mag3_Deltasm = Mag_limits_6_9 & Delta_mag_limits_sm & RADECseplimits\n",
      "limits_mag1_Deltalg = Mag_limits_0_3 & Delta_mag_limits_lg & RADECseplimits\n",
      "limits_mag2_Deltalg = Mag_limits_3_6 & Delta_mag_limits_lg & RADECseplimits\n",
      "limits_mag3_Deltalg = Mag_limits_6_9 & Delta_mag_limits_lg & RADECseplimits\n",
      "\n",
      "#custom limits\n",
      "limits_mag1 = Mag_limits_0_3 & RADECseplimits"
     ],
     "language": "python",
     "metadata": {},
     "outputs": [],
     "prompt_number": 15
    },
    {
     "cell_type": "code",
     "collapsed": false,
     "input": [
      "#constraints applied\n",
      "constraints = limits"
     ],
     "language": "python",
     "metadata": {},
     "outputs": [],
     "prompt_number": 16
    },
    {
     "cell_type": "code",
     "collapsed": false,
     "input": [
      "#lists from limits\n",
      "Discoverer_and_number_KAPAO = Discoverer_and_number[np.argwhere(constraints)]\n",
      "Sep_first_KAPAO = Sep_first[np.argwhere(constraints)]\n",
      "Sep_last_KAPAO = Sep_last[np.argwhere(constraints)]\n",
      "Pri_mag_KAPAO = Pri_mag[np.argwhere(constraints)]\n",
      "Sec_mag_KAPAO = Sec_mag[np.argwhere(constraints)]\n",
      "Spectral_type_KAPAO = Spectral_type[np.argwhere(constraints)]\n",
      "RA_coords_KAPAO = RA_coords[np.argwhere(constraints)]\n",
      "DEC_coords_KAPAO = DEC_coords[np.argwhere(constraints)]"
     ],
     "language": "python",
     "metadata": {},
     "outputs": [],
     "prompt_number": 17
    },
    {
     "cell_type": "code",
     "collapsed": false,
     "input": [
      "print(len(DEC_coords))\n",
      "print(len(RA_coords_KAPAO))\n",
      "#print(DEC_coords_KAPAO)"
     ],
     "language": "python",
     "metadata": {},
     "outputs": [
      {
       "output_type": "stream",
       "stream": "stdout",
       "text": [
        "154254\n",
        "60\n"
       ]
      }
     ],
     "prompt_number": 18
    },
    {
     "cell_type": "code",
     "collapsed": false,
     "input": [
      "#create CSV, master summer list\n",
      "import csv\n",
      "c = csv.writer(open(\"KAPAO_WDS_cat_20150716_2.csv\", \"wb\"))\n",
      "i = 0\n",
      "for i in range(0, len(RA_coords_KAPAO)):\n",
      "    c.writerow([Discoverer_and_number_KAPAO[i], Sep_first_KAPAO[i], Sep_last_KAPAO[i], Pri_mag_KAPAO[i], Sec_mag_KAPAO[i],Spectral_type_KAPAO[i], RA_coords_KAPAO[i], DEC_coords_KAPAO[i]])\n"
     ],
     "language": "python",
     "metadata": {},
     "outputs": [],
     "prompt_number": 19
    },
    {
     "cell_type": "code",
     "collapsed": false,
     "input": [
      "#plot of magnitude vs separation for KAPAO constrains\n",
      "\n",
      "x = np.ravel(Sep_first_KAPAO)\n",
      "y = np.ravel(Pri_mag_KAPAO)\n",
      "\n",
      "plt.hist2d(x, y, bins = 100, norm=LogNorm())\n",
      "plt.xlim(xmin = 2.00, xmax=0.00)\n",
      "plt.ylim(ymin = 2.00, ymax=9.00)\n",
      "plt.gca().invert_xaxis()\n",
      "plt.title('KAPAO-limited Separation vs. Magnitude')\n",
      "plt.xlabel('Separation')\n",
      "plt.ylabel('Magnitude')\n",
      "#plt.savefig('RA_DEC_histogram_degrees.png', format='png',dpi=1000)\n",
      "\n"
     ],
     "language": "python",
     "metadata": {},
     "outputs": [
      {
       "metadata": {},
       "output_type": "pyout",
       "prompt_number": 20,
       "text": [
        "<matplotlib.text.Text at 0x7fe103c98550>"
       ]
      },
      {
       "metadata": {},
       "output_type": "display_data",
       "png": "[encoded data removed]",
       "text": [
        "<matplotlib.figure.Figure at 0x7fe103dfcd90>"
       ]
      }
     ],
     "prompt_number": 20
    },
    {
     "cell_type": "code",
     "collapsed": false,
     "input": [],
     "language": "python",
     "metadata": {},
     "outputs": [],
     "prompt_number": 20
    },
    {
     "cell_type": "code",
     "collapsed": false,
     "input": [
      "N = len(Pri_mag_KAPAO)\n",
      "x = np.ravel(Sep_first_KAPAO)\n",
      "y = np.ravel(Pri_mag_KAPAO)\n",
      "#colors = 10\n",
      "#cm = c.Colormap(Delta_mag_limits_sm)\n",
      "area = np.pi * (4)**2 # 0 to 15 point radiuses\n",
      "\n",
      "plt.scatter(x, y, s=area, alpha=0.5, cmap = cm)\n",
      "plt.title('KAPAO-limited Separation vs. Magnitude')\n",
      "plt.xlabel('Separation')\n",
      "plt.ylabel('Magnitude')\n",
      "plt.gca().invert_yaxis()\n"
     ],
     "language": "python",
     "metadata": {},
     "outputs": [
      {
       "metadata": {},
       "output_type": "display_data",
       "png": "[encoded data removed]",
       "text": [
        "<matplotlib.figure.Figure at 0x7fe103c52950>"
       ]
      }
     ],
     "prompt_number": 21
    },
    {
     "cell_type": "code",
     "collapsed": false,
     "input": [],
     "language": "python",
     "metadata": {},
     "outputs": [],
     "prompt_number": 21
    },
    {
     "cell_type": "code",
     "collapsed": false,
     "input": [
      "#conversion of RA and DEC from degree to decimal\n",
      "#incomplete\n",
      "from astropy.coordinates import Angle\n",
      "RA_coords = WDS_Master2['col14']\n",
      "i = 0\n",
      "#for i in range (0, len(RA_coords)):\n",
      "for i in range (0, 2):\n",
      "    #DEC = DEC_coords[i]/10000\n",
      "    #c = SkyCoord(ra=RA_coords[i]*u.hourangle, dec=DEC*u.degree)\n",
      "    ra = RA_coords[i]\n",
      "    c = SkyCoord.Angle(RA_coords[i], unit=u.hour) # create an Angle object\n",
      "    ra.degree \n",
      "    #print(c)\n",
      "\n"
     ],
     "language": "python",
     "metadata": {},
     "outputs": [
      {
       "ename": "AttributeError",
       "evalue": "type object 'SkyCoord' has no attribute 'Angle'",
       "output_type": "pyerr",
       "traceback": [
        "\u001b[0;31m---------------------------------------------------------------------------\u001b[0m\n\u001b[0;31mAttributeError\u001b[0m                            Traceback (most recent call last)",
        "\u001b[0;32m<ipython-input-22-75b4f49dac3f>\u001b[0m in \u001b[0;36m<module>\u001b[0;34m()\u001b[0m\n\u001b[1;32m      9\u001b[0m     \u001b[0;31m#c = SkyCoord(ra=RA_coords[i]*u.hourangle, dec=DEC*u.degree)\u001b[0m\u001b[0;34m\u001b[0m\u001b[0;34m\u001b[0m\u001b[0m\n\u001b[1;32m     10\u001b[0m     \u001b[0mra\u001b[0m \u001b[0;34m=\u001b[0m \u001b[0mRA_coords\u001b[0m\u001b[0;34m[\u001b[0m\u001b[0mi\u001b[0m\u001b[0;34m]\u001b[0m\u001b[0;34m\u001b[0m\u001b[0m\n\u001b[0;32m---> 11\u001b[0;31m     \u001b[0mc\u001b[0m \u001b[0;34m=\u001b[0m \u001b[0mSkyCoord\u001b[0m\u001b[0;34m.\u001b[0m\u001b[0mAngle\u001b[0m\u001b[0;34m(\u001b[0m\u001b[0mRA_coords\u001b[0m\u001b[0;34m[\u001b[0m\u001b[0mi\u001b[0m\u001b[0;34m]\u001b[0m\u001b[0;34m,\u001b[0m \u001b[0munit\u001b[0m\u001b[0;34m=\u001b[0m\u001b[0mu\u001b[0m\u001b[0;34m.\u001b[0m\u001b[0mhour\u001b[0m\u001b[0;34m)\u001b[0m \u001b[0;31m# create an Angle object\u001b[0m\u001b[0;34m\u001b[0m\u001b[0m\n\u001b[0m\u001b[1;32m     12\u001b[0m     \u001b[0mra\u001b[0m\u001b[0;34m.\u001b[0m\u001b[0mdegree\u001b[0m\u001b[0;34m\u001b[0m\u001b[0m\n\u001b[1;32m     13\u001b[0m     \u001b[0;31m#print(c)\u001b[0m\u001b[0;34m\u001b[0m\u001b[0;34m\u001b[0m\u001b[0m\n",
        "\u001b[0;31mAttributeError\u001b[0m: type object 'SkyCoord' has no attribute 'Angle'"
       ]
      }
     ],
     "prompt_number": 22
    },
    {
     "cell_type": "code",
     "collapsed": false,
     "input": [
      "#trying to use astropy for RADEC syplot\n",
      "\n",
      "import astropy.coordinates as coord\n",
      "\n",
      "fig = plt.figure(figsize=(10,5))\n",
      "ax = fig.add_subplot(111, projection=\"mollweide\")\n",
      "ax.scatter(RA_degrees, DEC_degrees)\n",
      "#plt.savefig('RA_DEC_sky_degrees.png', format='png',dpi=1000)"
     ],
     "language": "python",
     "metadata": {},
     "outputs": [
      {
       "ename": "NameError",
       "evalue": "name 'RA_degrees' is not defined",
       "output_type": "pyerr",
       "traceback": [
        "\u001b[0;31m---------------------------------------------------------------------------\u001b[0m\n\u001b[0;31mNameError\u001b[0m                                 Traceback (most recent call last)",
        "\u001b[0;32m<ipython-input-23-1e337c5fabcb>\u001b[0m in \u001b[0;36m<module>\u001b[0;34m()\u001b[0m\n\u001b[1;32m      5\u001b[0m \u001b[0mfig\u001b[0m \u001b[0;34m=\u001b[0m \u001b[0mplt\u001b[0m\u001b[0;34m.\u001b[0m\u001b[0mfigure\u001b[0m\u001b[0;34m(\u001b[0m\u001b[0mfigsize\u001b[0m\u001b[0;34m=\u001b[0m\u001b[0;34m(\u001b[0m\u001b[0;36m10\u001b[0m\u001b[0;34m,\u001b[0m\u001b[0;36m5\u001b[0m\u001b[0;34m)\u001b[0m\u001b[0;34m)\u001b[0m\u001b[0;34m\u001b[0m\u001b[0m\n\u001b[1;32m      6\u001b[0m \u001b[0max\u001b[0m \u001b[0;34m=\u001b[0m \u001b[0mfig\u001b[0m\u001b[0;34m.\u001b[0m\u001b[0madd_subplot\u001b[0m\u001b[0;34m(\u001b[0m\u001b[0;36m111\u001b[0m\u001b[0;34m,\u001b[0m \u001b[0mprojection\u001b[0m\u001b[0;34m=\u001b[0m\u001b[0;34m\"mollweide\"\u001b[0m\u001b[0;34m)\u001b[0m\u001b[0;34m\u001b[0m\u001b[0m\n\u001b[0;32m----> 7\u001b[0;31m \u001b[0max\u001b[0m\u001b[0;34m.\u001b[0m\u001b[0mscatter\u001b[0m\u001b[0;34m(\u001b[0m\u001b[0mRA_degrees\u001b[0m\u001b[0;34m,\u001b[0m \u001b[0mDEC_degrees\u001b[0m\u001b[0;34m)\u001b[0m\u001b[0;34m\u001b[0m\u001b[0m\n\u001b[0m\u001b[1;32m      8\u001b[0m \u001b[0;31m#plt.savefig('RA_DEC_sky_degrees.png', format='png',dpi=1000)\u001b[0m\u001b[0;34m\u001b[0m\u001b[0;34m\u001b[0m\u001b[0m\n",
        "\u001b[0;31mNameError\u001b[0m: name 'RA_degrees' is not defined"
       ]
      },
      {
       "output_type": "stream",
       "stream": "stderr",
       "text": [
        "/usr/lib/pymodules/python2.7/matplotlib/projections/geo.py:485: RuntimeWarning: invalid value encountered in arcsin\n",
        "  theta = np.arcsin(y / np.sqrt(2))\n"
       ]
      },
      {
       "metadata": {},
       "output_type": "display_data",
       "png": "[encoded data removed]",
       "text": [
        "<matplotlib.figure.Figure at 0x7fe103b84050>"
       ]
      }
     ],
     "prompt_number": 23
    },
    {
     "cell_type": "code",
     "collapsed": false,
     "input": [],
     "language": "python",
     "metadata": {},
     "outputs": [],
     "prompt_number": 23
    },
    {
     "cell_type": "code",
     "collapsed": false,
     "input": [],
     "language": "python",
     "metadata": {},
     "outputs": [],
     "prompt_number": 23
    },
    {
     "cell_type": "code",
     "collapsed": false,
     "input": [],
     "language": "python",
     "metadata": {},
     "outputs": [],
     "prompt_number": 23
    },
    {
     "cell_type": "code",
     "collapsed": false,
     "input": [],
     "language": "python",
     "metadata": {},
     "outputs": []
    }
   ],
   "metadata": {}
  }
 ]
}