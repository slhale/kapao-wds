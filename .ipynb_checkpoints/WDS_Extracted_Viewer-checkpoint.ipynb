{
 "metadata": {
  "name": ""
 },
 "nbformat": 3,
 "nbformat_minor": 0,
 "worksheets": [
  {
   "cells": [
    {
     "cell_type": "code",
     "collapsed": false,
     "input": [
      "# import the python3 print function\n",
      "from __future__ import print_function\n",
      "\n",
      "#imports\n",
      "import numpy as np\n",
      "from numpy import *\n",
      "import matplotlib.pyplot as plt\n",
      "import matplotlib.colors as c\n",
      "import astropy\n",
      "from astropy.io import ascii\n",
      "from StringIO import StringIO\n",
      "from matplotlib.colors import LogNorm\n",
      "import pylab\n",
      "from matplotlib.ticker import NullFormatter\n",
      "import numpy.ma as ma\n",
      "np.set_printoptions(threshold='nan')\n",
      "import pickle\n",
      "from collections import Counter \n",
      "from astropy import units as u\n",
      "from astropy.coordinates import SkyCoord\n",
      "import matplotlib.cm as cm\n",
      "#imports added by Sarah\n",
      "from astropy.time import Time"
     ],
     "language": "python",
     "metadata": {},
     "outputs": [],
     "prompt_number": 1
    },
    {
     "cell_type": "code",
     "collapsed": false,
     "input": [
      "#import the WDS catalog from the one we already narrowed down\n",
      "wds = astropy.io.ascii.read('object_list.txt', delimiter ='\\s', guess=False, Reader =ascii.NoHeader, fill_values=[('.', '-999'), ('', '-999')])\n",
      "wds"
     ],
     "language": "python",
     "metadata": {},
     "outputs": [
      {
       "html": [
        "&lt;Table masked=False length=1&gt;\n",
        "<table id=\"table140035066191312\">\n",
        "<thead><tr><th>col1</th></tr></thead>\n",
        "<thead><tr><th>string32</th></tr></thead>\n",
        "<tr><td>test</td></tr>\n",
        "</table>"
       ],
       "metadata": {},
       "output_type": "pyout",
       "prompt_number": 4,
       "text": [
        "<Table masked=False length=1>\n",
        "  col1  \n",
        "string32\n",
        "--------\n",
        "    test"
       ]
      }
     ],
     "prompt_number": 4
    },
    {
     "cell_type": "code",
     "collapsed": false,
     "input": [],
     "language": "python",
     "metadata": {},
     "outputs": [
      {
       "ename": "NameError",
       "evalue": "name 'wds' is not defined",
       "output_type": "pyerr",
       "traceback": [
        "\u001b[0;31m---------------------------------------------------------------------------\u001b[0m\n\u001b[0;31mNameError\u001b[0m                                 Traceback (most recent call last)",
        "\u001b[0;32m<ipython-input-3-82081d438fcd>\u001b[0m in \u001b[0;36m<module>\u001b[0;34m()\u001b[0m\n\u001b[0;32m----> 1\u001b[0;31m \u001b[0mwds\u001b[0m\u001b[0;34m\u001b[0m\u001b[0m\n\u001b[0m",
        "\u001b[0;31mNameError\u001b[0m: name 'wds' is not defined"
       ]
      }
     ],
     "prompt_number": 3
    },
    {
     "cell_type": "code",
     "collapsed": false,
     "input": [],
     "language": "python",
     "metadata": {},
     "outputs": []
    }
   ],
   "metadata": {}
  }
 ]
}